{
 "cells": [
  {
   "cell_type": "markdown",
   "metadata": {},
   "source": [
    "#### Add your code below following the instructions given in the course\n"
   ]
  },
  {
   "cell_type": "markdown",
   "metadata": {},
   "source": [
    "# MY JUPYTER NOTEBOOK ON SKILLS NETWORK "
   ]
  },
  {
   "cell_type": "markdown",
   "metadata": {},
   "source": [
    "**FARYAL HUSSAIN**"
   ]
  },
  {
   "cell_type": "markdown",
   "metadata": {},
   "source": [
    "DATA SCIENCE STUDENT"
   ]
  },
  {
   "cell_type": "markdown",
   "metadata": {},
   "source": [
    "*I am interested in data science because i am fascinated by machine learning models and its useful languages*\n"
   ]
  },
  {
   "cell_type": "markdown",
   "metadata": {},
   "source": [
    "# Some of the languages that data scientist uses are: \n",
    "1. Python\n",
    "1. R \n",
    "1. SQL \n",
    "1. SCALA\n",
    "1. C++\n",
    "1. JAVA \n",
    "1. JULIA\n",
    " "
   ]
  },
  {
   "cell_type": "markdown",
   "metadata": {},
   "source": [
    "# Several Data Science Libraries are: \n",
    "1. Pandas \n",
    "1. Numpy \n",
    "1. Matplotlib \n",
    "1. Seaborn \n",
    "1. Scikit-Learn \n",
    "1. Keras\n",
    "1. TensorFlow\n",
    "1. PyTorch \n",
    "1. Vegas\n",
    "1. BigDL \n",
    "1. ggplot2"
   ]
  },
  {
   "cell_type": "markdown",
   "metadata": {},
   "source": [
    "# Most commonly Data Science Tools are:\n",
    " |open Source Tools of Data Science|Commercial Tools for Data Science|Cloud Based Tools for Data Science| \n",
    " |---------------------------------|---------------------------------|----------------------------------| \n",
    " |Data management                  |Data Management                  |Fully integrated and              |\n",
    " |- MY SQL                         |- Oracale database               |Platform                          |\n",
    " |- PostgreSQL                     |- SQL Server                     |- Azura Machine Learning          |\n",
    " |Data integration and             |- IBM DB2                        |- H2O a.i                         |\n",
    " |Transformation                   |Data Visualization               |Data Management                   | \n",
    " |- Apache Airflow                 |- Tableau                        |- Amazon DynamoDB                 |\n",
    " |- Apache nifi                    |Model Building                   |- Cloudent                        | \n",
    " |- Apache kafka                   |- SPSS                           |- CouchDB                         | \n",
    " |Data visualization               |- SAS                            |Data Visualization                | \n",
    " |- Hue                            |Data Asset Management            |- \n",
    " |- kibana                         |- Informatica                    |\n",
    " |Code Asset Management            |Development Management           | \n",
    " |- Git                            |- IBM Watson Studio              | \n",
    " |Development Environment          |                                 | \n",
    " |- Jupyter                        |                                 |\n",
    "  "
   ]
  },
  {
   "cell_type": "code",
   "execution_count": 1,
   "metadata": {},
   "outputs": [
    {
     "data": {
      "text/plain": [
       "11"
      ]
     },
     "execution_count": 1,
     "metadata": {},
     "output_type": "execute_result"
    }
   ],
   "source": [
    "(2 * 4) + 3"
   ]
  },
  {
   "cell_type": "code",
   "execution_count": 2,
   "metadata": {},
   "outputs": [
    {
     "name": "stdout",
     "output_type": "stream",
     "text": [
      "1.6666666666666667\n"
     ]
    }
   ],
   "source": [
    "minutes = 100 \n",
    "hours = minutes/60 \n",
    "print(hours)"
   ]
  },
  {
   "cell_type": "markdown",
   "metadata": {},
   "source": [
    "## Some of the Objectives of the course: \n",
    "- Discussed most commonly use languages of the Data science\n",
    "- Heavily use Python based libraries \n",
    "- Major open sources, commercial based and cloud based tools of data science \n",
    "- Did hand-on lab on both Watson studio and Jupyter Notebook \n",
    "- Discussed how to create projects both on Watson studio and Jupyter Notebook and share via link in git\n",
    "- Github "
   ]
  },
  {
   "cell_type": "markdown",
   "metadata": {},
   "source": [
    "## Author's Name ##"
   ]
  },
  {
   "cell_type": "markdown",
   "metadata": {},
   "source": [
    " ***Faryal Hussain***"
   ]
  },
  {
   "cell_type": "code",
   "execution_count": null,
   "metadata": {},
   "outputs": [],
   "source": []
  }
 ],
 "metadata": {
  "kernelspec": {
   "display_name": "Python",
   "language": "python",
   "name": "conda-env-python-py"
  },
  "language_info": {
   "codemirror_mode": {
    "name": "ipython",
    "version": 3
   },
   "file_extension": ".py",
   "mimetype": "text/x-python",
   "name": "python",
   "nbconvert_exporter": "python",
   "pygments_lexer": "ipython3",
   "version": "3.7.12"
  }
 },
 "nbformat": 4,
 "nbformat_minor": 4
}
